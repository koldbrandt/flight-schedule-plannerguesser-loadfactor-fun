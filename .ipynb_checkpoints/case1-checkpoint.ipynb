{
 "cells": [
  {
   "cell_type": "code",
   "execution_count": 1,
   "id": "33d7eadc",
   "metadata": {},
   "outputs": [],
   "source": [
    "import pandas as pd\n",
    "import seaborn as sns\n",
    "import matplotlib.pyplot as plt\n",
    "import numpy as np\n",
    "import sklearn\n",
    "from pprint import pprint\n",
    "from sklearn.ensemble import BaggingClassifier, AdaBoostClassifier,AdaBoostRegressor, RandomForestRegressor, GradientBoostingRegressor\n",
    "from sklearn.linear_model import LinearRegression, Ridge, Lasso, Lars, BayesianRidge, ElasticNet\n",
    "from sklearn.model_selection import train_test_split\n",
    "from sklearn.kernel_ridge import KernelRidge\n",
    "from sklearn.metrics import r2_score, mean_absolute_error, mean_squared_error\n",
    "from sklearn.tree import DecisionTreeClassifier, DecisionTreeRegressor\n",
    "from sklearn.model_selection import GridSearchCV, RandomizedSearchCV\n",
    "from sklearn.svm import SVR\n",
    "from sklearn.model_selection import cross_val_score\n",
    "from xgboost import XGBRFRegressor\n",
    "import xgboost as xgb\n",
    "from sklearn.linear_model import SGDRegressor\n",
    "from catboost import CatBoostRegressor\n",
    "from lightgbm import LGBMRegressor\n",
    "import shap\n",
    "import warnings\n",
    "warnings.filterwarnings(\"ignore\")\n",
    "\n",
    "\n",
    "\n",
    "sns.set()"
   ]
  },
  {
   "cell_type": "code",
   "execution_count": 66,
   "id": "e78a38c7-0a82-4b87-927c-802c99564a24",
   "metadata": {},
   "outputs": [],
   "source": [
    "df = pd.read_excel('Realized Schedule 20210101-20220228.xlsx')\n",
    "df_predict = pd.read_excel('Future Schedule 20220301-20220331.xlsx')\n",
    "df=df.iloc[3500:]\n"
   ]
  },
  {
   "cell_type": "markdown",
   "id": "a114d7ad-96c8-4824-be97-9f096be74b17",
   "metadata": {},
   "source": [
    "dividing timestamp into year, day and month."
   ]
  },
  {
   "cell_type": "code",
   "execution_count": 67,
   "id": "b0f86420-bd04-493e-bf02-3be85277b684",
   "metadata": {},
   "outputs": [],
   "source": [
    "df['year'] = df.ScheduleTime.apply(lambda x: x.year)\n",
    "df['day'] = df.ScheduleTime.apply(lambda x: x.weekday())\n",
    "df['month'] = df.ScheduleTime.apply(lambda x: x.month)"
   ]
  },
  {
   "cell_type": "markdown",
   "id": "f76d7ca8-aeb0-47d1-a980-bb988b6f90fd",
   "metadata": {},
   "source": [
    "Binning the hours into 4 diffreent categories. "
   ]
  },
  {
   "cell_type": "code",
   "execution_count": 68,
   "id": "484f2d1d-0a2a-48ed-a3b0-294b9ecdcbe7",
   "metadata": {},
   "outputs": [],
   "source": [
    "bins = [0, 6, 12, 18, 24]\n",
    "labels = ['night', 'morning', 'daytime', 'afternoon']\n",
    "df['time'] = pd.cut(df.ScheduleTime.dt.hour, bins,labels=labels)"
   ]
  },
  {
   "cell_type": "code",
   "execution_count": 69,
   "id": "7f4ccc1c-7dd3-4ea5-8a52-bafa654b318e",
   "metadata": {},
   "outputs": [],
   "source": [
    "df['SeatCapacity']=pd.qcut(df['SeatCapacity'],q=5,labels=['small','noice','medium','largebitches','largemegaomega'])"
   ]
  },
  {
   "cell_type": "markdown",
   "id": "3a42a647",
   "metadata": {},
   "source": [
    "Binning the Months into vinter, spring, summer and fall."
   ]
  },
  {
   "cell_type": "code",
   "execution_count": 70,
   "id": "e12a78fc",
   "metadata": {},
   "outputs": [],
   "source": [
    "bins = [\"Winter\", \"Spring\", \"Summer\", \"Fall\"]\n",
    "df['Season'] = df.month%12 //3\n",
    "df['Season'] = df['Season'].apply(lambda x : bins[x])"
   ]
  },
  {
   "cell_type": "markdown",
   "id": "f5b4e4e6-71f9-4408-80de-289014845704",
   "metadata": {},
   "source": [
    "Dummy on sector, flighttype, time and Season"
   ]
  },
  {
   "cell_type": "code",
   "execution_count": 71,
   "id": "e6ad8d96-42b1-4e8d-8d22-a817cd5d574b",
   "metadata": {},
   "outputs": [],
   "source": [
    "df=pd.get_dummies(df,columns=['Sector','FlightType','time', 'Season','day','year','AircraftType','SeatCapacity'],drop_first=True)"
   ]
  },
  {
   "cell_type": "markdown",
   "id": "8acb4b75-8892-4ddb-8f10-b05282af18fb",
   "metadata": {},
   "source": [
    "Cleaning a bit"
   ]
  },
  {
   "cell_type": "code",
   "execution_count": 72,
   "id": "f634eb17-c8d5-47c4-86f8-0c2a6b297eef",
   "metadata": {},
   "outputs": [],
   "source": [
    "df = df.drop(['ScheduleTime', 'month'], axis=1)"
   ]
  },
  {
   "cell_type": "markdown",
   "id": "e7e80efc",
   "metadata": {},
   "source": [
    "Doing frequency encoding of destination and airline"
   ]
  },
  {
   "cell_type": "code",
   "execution_count": 73,
   "id": "bc7ad25f",
   "metadata": {},
   "outputs": [],
   "source": [
    "fe_ = df.groupby(\"Destination\").size()/len(df)\n",
    "df['freq_destination'] = df[\"Destination\"].map(fe_).round(4)\n",
    "\n",
    "fe_ = df.groupby(\"Airline\").size()/len(df)\n",
    "df['freq_airline'] = df[\"Airline\"].map(fe_).round(3)\n",
    "\n",
    "fe_ = df.groupby(\"FlightNumber\").size()/len(df)\n",
    "df['freq_flightnumber'] = df[\"FlightNumber\"].map(fe_).round(3)"
   ]
  },
  {
   "cell_type": "code",
   "execution_count": 74,
   "id": "6533c320",
   "metadata": {},
   "outputs": [],
   "source": [
    "# corr=df.corr()\n",
    "# plt.figure(figsize=(25,25))\n",
    "# sns.heatmap(corr, annot=True)\n",
    "# plt.title(\"Correlations heatmap\")\n",
    "# plt.show()"
   ]
  },
  {
   "cell_type": "code",
   "execution_count": 75,
   "id": "ab04eb35",
   "metadata": {},
   "outputs": [],
   "source": [
    "#df = df[df['year_2022']==1]\n",
    "X = df.loc[:, df.columns != 'LoadFactor']\n",
    "y = df['LoadFactor']\n",
    "N, P = X.shape\n",
    "X['FlightType_O']=0"
   ]
  },
  {
   "cell_type": "code",
   "execution_count": 76,
   "id": "ad28204a",
   "metadata": {},
   "outputs": [],
   "source": [
    "X = X.drop(['Airline','Destination','FlightNumber',], axis=1)"
   ]
  },
  {
   "cell_type": "code",
   "execution_count": 77,
   "id": "b24ea4fc-5454-49ad-9239-b5f6e2c3a6e8",
   "metadata": {},
   "outputs": [],
   "source": [
    "X_train, X_test, y_train, y_test = train_test_split(X, y, test_size=0.33, random_state=1)"
   ]
  },
  {
   "cell_type": "code",
   "execution_count": 78,
   "id": "4deb1653-06bf-45cf-9f45-8899b1fda739",
   "metadata": {},
   "outputs": [],
   "source": [
    "def runModel(model):\n",
    "    model.fit(X_train,y_train)\n",
    "    y_pred=model.predict(X_test)\n",
    "    print(\"& %.3f\" %MSE(y_test,y_pred) + \" & %.3f\" %np.sqrt(MSE(y_test,y_pred))+ \" & %.3f\" %MAE(y_test,y_pred)+ \" & %.3f\" %r2_score(y_test,y_pred)+ \" & %.3f\" %accuracy(y_test,y_pred))"
   ]
  },
  {
   "cell_type": "code",
   "execution_count": null,
   "id": "d92fc04b-74f0-40a8-8601-096c5ce67d7b",
   "metadata": {},
   "outputs": [],
   "source": [
    "explainer = shap.TreeExplainer(lr)\n",
    "shap_values = explainer.shap_values(X_test)\n",
    "shap.summary_plot(shap_values, X_test)"
   ]
  },
  {
   "cell_type": "code",
   "execution_count": null,
   "id": "d7abcf69-2698-4d30-be9c-014979093d13",
   "metadata": {},
   "outputs": [],
   "source": [
    "shap.force_plot(explainer.expected_value, shap_values[-1,:], \n",
    "                X_test.iloc[-1,:],\n",
    "                matplotlib=True\n",
    "               )"
   ]
  },
  {
   "cell_type": "code",
   "execution_count": 60,
   "id": "024a5da6-4b35-45b7-a91d-84c0a6b6c1f7",
   "metadata": {},
   "outputs": [
    {
     "name": "stdout",
     "output_type": "stream",
     "text": [
      "Fitting 5 folds for each of 20 candidates, totalling 100 fits\n",
      "{'max_depth': 15,\n",
      " 'min_samples_leaf': 2,\n",
      " 'min_samples_split': 5,\n",
      " 'n_estimators': 183}\n"
     ]
    }
   ],
   "source": [
    "model =  RandomForestRegressor()\n",
    "param_grid = {\n",
    "    'max_depth': list(range(5,30)),\n",
    "    'n_estimators': [x for x in range(10,200)],\n",
    "    'min_samples_split': [2,3,4,5,6],\n",
    "    'min_samples_leaf': [1,2,3,4,5]\n",
    "}\n",
    "\n",
    "boost_random = RandomizedSearchCV(estimator = model, param_distributions = param_grid, n_iter=20, verbose = 2, n_jobs=6, return_train_score=True)\n",
    "    \n",
    "boost_random.fit(X, y)\n",
    "pprint(boost_random.best_params_)"
   ]
  },
  {
   "cell_type": "code",
   "execution_count": null,
   "id": "49196d3b-5b33-4dcc-bcc4-b512f038acda",
   "metadata": {},
   "outputs": [],
   "source": [
    "runModel(RandomForestRegressor(max_depth= 15,\n",
    " min_samples_leaf= 2,\n",
    " min_samples_split=5,\n",
    " n_estimators= 184))"
   ]
  },
  {
   "cell_type": "markdown",
   "id": "0245e9be-c32a-4d8a-90fd-08f1de1d5daf",
   "metadata": {},
   "source": [
    "RandomForestRegressor with adaboost is the best option and therefor crossvalidation will be used on that."
   ]
  },
  {
   "cell_type": "code",
   "execution_count": 44,
   "id": "6ca9823e",
   "metadata": {},
   "outputs": [
    {
     "name": "stdout",
     "output_type": "stream",
     "text": [
      "Fitting 5 folds for each of 405 candidates, totalling 2025 fits\n"
     ]
    },
    {
     "data": {
      "text/plain": [
       "GridSearchCV(estimator=RandomForestRegressor(warm_start=True), n_jobs=6,\n",
       "             param_grid={'max_depth': [15, 17, 19, 21, 23],\n",
       "                         'min_samples_leaf': [1, 2, 3],\n",
       "                         'min_samples_split': [2, 3, 4],\n",
       "                         'n_estimators': [73, 74, 75, 76, 77, 78, 79, 80, 81]},\n",
       "             return_train_score=True, scoring='r2', verbose=2)"
      ]
     },
     "execution_count": 44,
     "metadata": {},
     "output_type": "execute_result"
    }
   ],
   "source": [
    "model =  RandomForestRegressor(warm_start=True)\n",
    "param_grid = {\n",
    "    'max_depth': [15,17,19,21,23],\n",
    "    'n_estimators': [x for x in range(73,82)],\n",
    "    'min_samples_split': [2,3,4],\n",
    "    'min_samples_leaf': [1,2,3]\n",
    "}\n",
    "\n",
    "boost_grid = GridSearchCV(estimator = model, param_grid = param_grid, verbose = 2, n_jobs=6 ,return_train_score=True, scoring='r2')\n",
    "    \n",
    "boost_grid.fit(X, y)"
   ]
  },
  {
   "cell_type": "code",
   "execution_count": 43,
   "id": "1e056c44-8471-456b-a891-1b8a2ffe48ea",
   "metadata": {},
   "outputs": [],
   "source": [
    "df_predict = pd.read_excel('Future Schedule 20220301-20220331.xlsx')\n",
    "df_predict['year'] = df_predict.ScheduleTime.apply(lambda x: x.year)\n",
    "df_predict['day'] = df_predict.ScheduleTime.apply(lambda x: x.weekday())\n",
    "df_predict['month'] = df_predict.ScheduleTime.apply(lambda x: x.month)\n",
    "bins = [0, 6, 12, 18, 24]\n",
    "labels = ['night', 'morning', 'daytime', 'afternoon']\n",
    "df_predict['time'] = pd.cut(df_predict.ScheduleTime.dt.hour, bins,labels=labels)\n",
    "bins = [\"Winter\", \"Spring\", \"Summer\", \"Fall\"]\n",
    "df_predict['Season'] = df_predict.month%12 //3\n",
    "df_predict['Season'] = df_predict['Season'].apply(lambda x : bins[x])\n",
    "df_predict=pd.get_dummies(df_predict,columns=['Sector','FlightType','time', 'Season','day','year'],drop_first=True)\n",
    "df_predict = df_predict.drop(['ScheduleTime', 'month'], axis=1)\n",
    "fe_ = df_predict.groupby(\"Destination\").size()/len(df_predict)\n",
    "df_predict['freq_destination'] = df_predict[\"Destination\"].map(fe_).round(4)\n",
    "\n",
    "fe_ = df_predict.groupby(\"Airline\").size()/len(df)\n",
    "df_predict['freq_airline'] = df_predict[\"Airline\"].map(fe_).round(3)\n",
    "\n",
    "X = df_predict.loc[:, df_predict.columns != 'LoadFactor']\n",
    "X = X.drop(['Airline', 'FlightNumber', 'Destination', 'AircraftType'], axis=1)\n",
    "X['Sector_MX']=0\n",
    "X['Sector_NL']=0\n",
    "X['Season_Spring']=0\n",
    "X[ 'Season_Summer']=0\n",
    "X['Season_Winter']=0\n",
    "X['year_2022'] = 0 "
   ]
  },
  {
   "cell_type": "code",
   "execution_count": 14,
   "id": "b02c95dd-397b-4c5d-b571-38f6755a4a7b",
   "metadata": {},
   "outputs": [],
   "source": [
    "def accuracy(y_test, yhat):\n",
    "    yhat = np.delete(yhat, np.argwhere(y_test == 0))\n",
    "    y_test = np.delete(y_test, np.argwhere(y_test == 0))\n",
    "    return np.mean(1-abs((y_test-yhat)/y_test))"
   ]
  },
  {
   "cell_type": "code",
   "execution_count": 15,
   "id": "194996b2-bace-41fb-819a-a7fa3d55f90d",
   "metadata": {},
   "outputs": [],
   "source": [
    "def MSE(y_true, y_predict):\n",
    "    squared = (y_true-y_predict)**2\n",
    "    return np.sum(squared) / len(y_true)\n",
    "\n",
    "def MAE(y_true, y_predict):\n",
    "    abs_val = abs(y_true-y_predict)\n",
    "    return np.sum(abs_val) / len(y_true)"
   ]
  },
  {
   "cell_type": "code",
   "execution_count": 116,
   "id": "60478ca7-005e-4533-8e8f-c22f52a5ef7d",
   "metadata": {},
   "outputs": [],
   "source": [
    "def plot_search_results_grid(grid):\n",
    "    results = grid.cv_results_\n",
    "    means_test = results['split1_test_score']\n",
    "    stds_test = results['std_test_score']\n",
    "    means_train = results['split1_train_score']\n",
    "    stds_train = results['std_train_score']\n",
    "\n",
    "    masks=[]\n",
    "    masks_names= list(grid.best_params_.keys())\n",
    "    for p_k, p_v in grid.best_params_.items():\n",
    "        masks.append(list(results['param_'+p_k].data==p_v))\n",
    "\n",
    "    params=grid.param_grid\n",
    "\n",
    "    fig, ax = plt.subplots(1,len(params),sharex='none',figsize=(20,5))\n",
    "    fig.suptitle('Score per parameter')\n",
    "    fig.text(0.09, 0.5, 'Best split SCORE', va='center', rotation='vertical')\n",
    "    pram_preformace_in_best = {}\n",
    "    for i, p in enumerate(masks_names):\n",
    "        m = np.stack(masks[:i] + masks[i+1:])\n",
    "        pram_preformace_in_best\n",
    "        best_parms_mask = m.all(axis=0)\n",
    "        best_index = np.where(best_parms_mask)[0]\n",
    "        x = np.array(params[p])\n",
    "        y_1 = np.array(means_test[best_index])\n",
    "        y_2 = np.array(means_train[best_index])\n",
    "        ax[i].plot(x, y_1, linestyle='--', marker='o', label='test')\n",
    "        ax[i].plot(x, y_2, linestyle='-', marker='*',label='train' )\n",
    "        ax[i].set_xlabel(p.upper())\n",
    "    plt.show()"
   ]
  }
 ],
 "metadata": {
  "kernelspec": {
   "display_name": "Python 3",
   "language": "python",
   "name": "python3"
  },
  "language_info": {
   "codemirror_mode": {
    "name": "ipython",
    "version": 3
   },
   "file_extension": ".py",
   "mimetype": "text/x-python",
   "name": "python",
   "nbconvert_exporter": "python",
   "pygments_lexer": "ipython3",
   "version": "3.8.8"
  }
 },
 "nbformat": 4,
 "nbformat_minor": 5
}
