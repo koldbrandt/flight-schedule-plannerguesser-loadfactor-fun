{
 "cells": [
  {
   "cell_type": "code",
   "execution_count": 36,
   "id": "33d7eadc",
   "metadata": {},
   "outputs": [],
   "source": [
    "import pandas as pd\n",
    "import seaborn as sns\n",
    "import matplotlib.pyplot as plt\n",
    "import numpy as np\n",
    "import sklearn\n",
    "from pprint import pprint\n",
    "from sklearn.ensemble import BaggingClassifier, AdaBoostClassifier,AdaBoostRegressor, RandomForestRegressor, GradientBoostingRegressor\n",
    "from sklearn.linear_model import LinearRegression, Ridge, Lasso, Lars, BayesianRidge, ElasticNet\n",
    "from sklearn.model_selection import train_test_split\n",
    "from sklearn.kernel_ridge import KernelRidge\n",
    "from sklearn.metrics import r2_score, mean_absolute_error, mean_squared_error\n",
    "from sklearn.tree import DecisionTreeClassifier, DecisionTreeRegressor\n",
    "from sklearn.model_selection import GridSearchCV, RandomizedSearchCV\n",
    "from sklearn.svm import SVR\n",
    "from sklearn.model_selection import cross_val_score\n",
    "from xgboost import XGBRFRegressor\n",
    "import xgboost as xgb\n",
    "from sklearn.linear_model import SGDRegressor\n",
    "from catboost import CatBoostRegressor\n",
    "from lightgbm import LGBMRegressor\n",
    "import shap\n",
    "import warnings\n",
    "warnings.filterwarnings(\"ignore\")\n",
    "\n",
    "\n",
    "\n",
    "sns.set()"
   ]
  },
  {
   "cell_type": "code",
   "execution_count": 40,
   "id": "e78a38c7-0a82-4b87-927c-802c99564a24",
   "metadata": {},
   "outputs": [
    {
     "ename": "ValueError",
     "evalue": "The truth value of a Series is ambiguous. Use a.empty, a.bool(), a.item(), a.any() or a.all().",
     "output_type": "error",
     "traceback": [
      "\u001b[1;31m---------------------------------------------------------------------------\u001b[0m",
      "\u001b[1;31mValueError\u001b[0m                                Traceback (most recent call last)",
      "\u001b[1;32m<ipython-input-40-044d47355477>\u001b[0m in \u001b[0;36m<module>\u001b[1;34m\u001b[0m\n\u001b[0;32m      2\u001b[0m \u001b[0mdf_predict\u001b[0m \u001b[1;33m=\u001b[0m \u001b[0mpd\u001b[0m\u001b[1;33m.\u001b[0m\u001b[0mread_excel\u001b[0m\u001b[1;33m(\u001b[0m\u001b[1;34m'Future Schedule 20220301-20220331.xlsx'\u001b[0m\u001b[1;33m)\u001b[0m\u001b[1;33m\u001b[0m\u001b[1;33m\u001b[0m\u001b[0m\n\u001b[0;32m      3\u001b[0m \u001b[0mdf\u001b[0m\u001b[1;33m[\u001b[0m\u001b[1;34m'LoadFactor'\u001b[0m\u001b[1;33m]\u001b[0m\u001b[1;33m=\u001b[0m\u001b[0mdf\u001b[0m\u001b[1;33m[\u001b[0m\u001b[1;34m'LoadFactor'\u001b[0m\u001b[1;33m]\u001b[0m\u001b[1;33m*\u001b[0m\u001b[1;36m100\u001b[0m\u001b[1;33m\u001b[0m\u001b[1;33m\u001b[0m\u001b[0m\n\u001b[1;32m----> 4\u001b[1;33m \u001b[0msns\u001b[0m\u001b[1;33m.\u001b[0m\u001b[0mboxplot\u001b[0m\u001b[1;33m(\u001b[0m\u001b[0mdf\u001b[0m\u001b[1;33m,\u001b[0m\u001b[0mcolumn\u001b[0m\u001b[1;33m=\u001b[0m\u001b[1;33m[\u001b[0m\u001b[1;34m'SeatCapacity'\u001b[0m\u001b[1;33m,\u001b[0m\u001b[1;34m'LoadFactor'\u001b[0m\u001b[1;33m]\u001b[0m\u001b[1;33m)\u001b[0m\u001b[1;33m\u001b[0m\u001b[1;33m\u001b[0m\u001b[0m\n\u001b[0m\u001b[0;32m      5\u001b[0m \u001b[0mdf\u001b[0m\u001b[1;33m=\u001b[0m\u001b[0mdf\u001b[0m\u001b[1;33m.\u001b[0m\u001b[0miloc\u001b[0m\u001b[1;33m[\u001b[0m\u001b[1;36m3500\u001b[0m\u001b[1;33m:\u001b[0m\u001b[1;33m]\u001b[0m\u001b[1;33m\u001b[0m\u001b[1;33m\u001b[0m\u001b[0m\n",
      "\u001b[1;32m~\\anaconda3\\lib\\site-packages\\seaborn\\_decorators.py\u001b[0m in \u001b[0;36minner_f\u001b[1;34m(*args, **kwargs)\u001b[0m\n\u001b[0;32m     44\u001b[0m             )\n\u001b[0;32m     45\u001b[0m         \u001b[0mkwargs\u001b[0m\u001b[1;33m.\u001b[0m\u001b[0mupdate\u001b[0m\u001b[1;33m(\u001b[0m\u001b[1;33m{\u001b[0m\u001b[0mk\u001b[0m\u001b[1;33m:\u001b[0m \u001b[0marg\u001b[0m \u001b[1;32mfor\u001b[0m \u001b[0mk\u001b[0m\u001b[1;33m,\u001b[0m \u001b[0marg\u001b[0m \u001b[1;32min\u001b[0m \u001b[0mzip\u001b[0m\u001b[1;33m(\u001b[0m\u001b[0msig\u001b[0m\u001b[1;33m.\u001b[0m\u001b[0mparameters\u001b[0m\u001b[1;33m,\u001b[0m \u001b[0margs\u001b[0m\u001b[1;33m)\u001b[0m\u001b[1;33m}\u001b[0m\u001b[1;33m)\u001b[0m\u001b[1;33m\u001b[0m\u001b[1;33m\u001b[0m\u001b[0m\n\u001b[1;32m---> 46\u001b[1;33m         \u001b[1;32mreturn\u001b[0m \u001b[0mf\u001b[0m\u001b[1;33m(\u001b[0m\u001b[1;33m**\u001b[0m\u001b[0mkwargs\u001b[0m\u001b[1;33m)\u001b[0m\u001b[1;33m\u001b[0m\u001b[1;33m\u001b[0m\u001b[0m\n\u001b[0m\u001b[0;32m     47\u001b[0m     \u001b[1;32mreturn\u001b[0m \u001b[0minner_f\u001b[0m\u001b[1;33m\u001b[0m\u001b[1;33m\u001b[0m\u001b[0m\n\u001b[0;32m     48\u001b[0m \u001b[1;33m\u001b[0m\u001b[0m\n",
      "\u001b[1;32m~\\anaconda3\\lib\\site-packages\\seaborn\\categorical.py\u001b[0m in \u001b[0;36mboxplot\u001b[1;34m(x, y, hue, data, order, hue_order, orient, color, palette, saturation, width, dodge, fliersize, linewidth, whis, ax, **kwargs)\u001b[0m\n\u001b[0;32m   2238\u001b[0m ):\n\u001b[0;32m   2239\u001b[0m \u001b[1;33m\u001b[0m\u001b[0m\n\u001b[1;32m-> 2240\u001b[1;33m     plotter = _BoxPlotter(x, y, hue, data, order, hue_order,\n\u001b[0m\u001b[0;32m   2241\u001b[0m                           \u001b[0morient\u001b[0m\u001b[1;33m,\u001b[0m \u001b[0mcolor\u001b[0m\u001b[1;33m,\u001b[0m \u001b[0mpalette\u001b[0m\u001b[1;33m,\u001b[0m \u001b[0msaturation\u001b[0m\u001b[1;33m,\u001b[0m\u001b[1;33m\u001b[0m\u001b[1;33m\u001b[0m\u001b[0m\n\u001b[0;32m   2242\u001b[0m                           width, dodge, fliersize, linewidth)\n",
      "\u001b[1;32m~\\anaconda3\\lib\\site-packages\\seaborn\\categorical.py\u001b[0m in \u001b[0;36m__init__\u001b[1;34m(self, x, y, hue, data, order, hue_order, orient, color, palette, saturation, width, dodge, fliersize, linewidth)\u001b[0m\n\u001b[0;32m    404\u001b[0m                  width, dodge, fliersize, linewidth):\n\u001b[0;32m    405\u001b[0m \u001b[1;33m\u001b[0m\u001b[0m\n\u001b[1;32m--> 406\u001b[1;33m         \u001b[0mself\u001b[0m\u001b[1;33m.\u001b[0m\u001b[0mestablish_variables\u001b[0m\u001b[1;33m(\u001b[0m\u001b[0mx\u001b[0m\u001b[1;33m,\u001b[0m \u001b[0my\u001b[0m\u001b[1;33m,\u001b[0m \u001b[0mhue\u001b[0m\u001b[1;33m,\u001b[0m \u001b[0mdata\u001b[0m\u001b[1;33m,\u001b[0m \u001b[0morient\u001b[0m\u001b[1;33m,\u001b[0m \u001b[0morder\u001b[0m\u001b[1;33m,\u001b[0m \u001b[0mhue_order\u001b[0m\u001b[1;33m)\u001b[0m\u001b[1;33m\u001b[0m\u001b[1;33m\u001b[0m\u001b[0m\n\u001b[0m\u001b[0;32m    407\u001b[0m         \u001b[0mself\u001b[0m\u001b[1;33m.\u001b[0m\u001b[0mestablish_colors\u001b[0m\u001b[1;33m(\u001b[0m\u001b[0mcolor\u001b[0m\u001b[1;33m,\u001b[0m \u001b[0mpalette\u001b[0m\u001b[1;33m,\u001b[0m \u001b[0msaturation\u001b[0m\u001b[1;33m)\u001b[0m\u001b[1;33m\u001b[0m\u001b[1;33m\u001b[0m\u001b[0m\n\u001b[0;32m    408\u001b[0m \u001b[1;33m\u001b[0m\u001b[0m\n",
      "\u001b[1;32m~\\anaconda3\\lib\\site-packages\\seaborn\\categorical.py\u001b[0m in \u001b[0;36mestablish_variables\u001b[1;34m(self, x, y, hue, data, orient, order, hue_order, units)\u001b[0m\n\u001b[0;32m    154\u001b[0m \u001b[1;33m\u001b[0m\u001b[0m\n\u001b[0;32m    155\u001b[0m             \u001b[1;31m# Figure out the plotting orientation\u001b[0m\u001b[1;33m\u001b[0m\u001b[1;33m\u001b[0m\u001b[1;33m\u001b[0m\u001b[0m\n\u001b[1;32m--> 156\u001b[1;33m             orient = infer_orient(\n\u001b[0m\u001b[0;32m    157\u001b[0m                 \u001b[0mx\u001b[0m\u001b[1;33m,\u001b[0m \u001b[0my\u001b[0m\u001b[1;33m,\u001b[0m \u001b[0morient\u001b[0m\u001b[1;33m,\u001b[0m \u001b[0mrequire_numeric\u001b[0m\u001b[1;33m=\u001b[0m\u001b[0mself\u001b[0m\u001b[1;33m.\u001b[0m\u001b[0mrequire_numeric\u001b[0m\u001b[1;33m\u001b[0m\u001b[1;33m\u001b[0m\u001b[0m\n\u001b[0;32m    158\u001b[0m             )\n",
      "\u001b[1;32m~\\anaconda3\\lib\\site-packages\\seaborn\\_core.py\u001b[0m in \u001b[0;36minfer_orient\u001b[1;34m(x, y, orient, require_numeric)\u001b[0m\n\u001b[0;32m   1302\u001b[0m     \"\"\"\n\u001b[0;32m   1303\u001b[0m \u001b[1;33m\u001b[0m\u001b[0m\n\u001b[1;32m-> 1304\u001b[1;33m     \u001b[0mx_type\u001b[0m \u001b[1;33m=\u001b[0m \u001b[1;32mNone\u001b[0m \u001b[1;32mif\u001b[0m \u001b[0mx\u001b[0m \u001b[1;32mis\u001b[0m \u001b[1;32mNone\u001b[0m \u001b[1;32melse\u001b[0m \u001b[0mvariable_type\u001b[0m\u001b[1;33m(\u001b[0m\u001b[0mx\u001b[0m\u001b[1;33m)\u001b[0m\u001b[1;33m\u001b[0m\u001b[1;33m\u001b[0m\u001b[0m\n\u001b[0m\u001b[0;32m   1305\u001b[0m     \u001b[0my_type\u001b[0m \u001b[1;33m=\u001b[0m \u001b[1;32mNone\u001b[0m \u001b[1;32mif\u001b[0m \u001b[0my\u001b[0m \u001b[1;32mis\u001b[0m \u001b[1;32mNone\u001b[0m \u001b[1;32melse\u001b[0m \u001b[0mvariable_type\u001b[0m\u001b[1;33m(\u001b[0m\u001b[0my\u001b[0m\u001b[1;33m)\u001b[0m\u001b[1;33m\u001b[0m\u001b[1;33m\u001b[0m\u001b[0m\n\u001b[0;32m   1306\u001b[0m \u001b[1;33m\u001b[0m\u001b[0m\n",
      "\u001b[1;32m~\\anaconda3\\lib\\site-packages\\seaborn\\_core.py\u001b[0m in \u001b[0;36mvariable_type\u001b[1;34m(vector, boolean_type)\u001b[0m\n\u001b[0;32m   1220\u001b[0m \u001b[1;33m\u001b[0m\u001b[0m\n\u001b[0;32m   1221\u001b[0m     \u001b[1;31m# Special-case all-na data, which is always \"numeric\"\u001b[0m\u001b[1;33m\u001b[0m\u001b[1;33m\u001b[0m\u001b[1;33m\u001b[0m\u001b[0m\n\u001b[1;32m-> 1222\u001b[1;33m     \u001b[1;32mif\u001b[0m \u001b[0mpd\u001b[0m\u001b[1;33m.\u001b[0m\u001b[0misna\u001b[0m\u001b[1;33m(\u001b[0m\u001b[0mvector\u001b[0m\u001b[1;33m)\u001b[0m\u001b[1;33m.\u001b[0m\u001b[0mall\u001b[0m\u001b[1;33m(\u001b[0m\u001b[1;33m)\u001b[0m\u001b[1;33m:\u001b[0m\u001b[1;33m\u001b[0m\u001b[1;33m\u001b[0m\u001b[0m\n\u001b[0m\u001b[0;32m   1223\u001b[0m         \u001b[1;32mreturn\u001b[0m \u001b[1;34m\"numeric\"\u001b[0m\u001b[1;33m\u001b[0m\u001b[1;33m\u001b[0m\u001b[0m\n\u001b[0;32m   1224\u001b[0m \u001b[1;33m\u001b[0m\u001b[0m\n",
      "\u001b[1;32m~\\anaconda3\\lib\\site-packages\\pandas\\core\\generic.py\u001b[0m in \u001b[0;36m__nonzero__\u001b[1;34m(self)\u001b[0m\n\u001b[0;32m   1440\u001b[0m     \u001b[1;33m@\u001b[0m\u001b[0mfinal\u001b[0m\u001b[1;33m\u001b[0m\u001b[1;33m\u001b[0m\u001b[0m\n\u001b[0;32m   1441\u001b[0m     \u001b[1;32mdef\u001b[0m \u001b[0m__nonzero__\u001b[0m\u001b[1;33m(\u001b[0m\u001b[0mself\u001b[0m\u001b[1;33m)\u001b[0m\u001b[1;33m:\u001b[0m\u001b[1;33m\u001b[0m\u001b[1;33m\u001b[0m\u001b[0m\n\u001b[1;32m-> 1442\u001b[1;33m         raise ValueError(\n\u001b[0m\u001b[0;32m   1443\u001b[0m             \u001b[1;34mf\"The truth value of a {type(self).__name__} is ambiguous. \"\u001b[0m\u001b[1;33m\u001b[0m\u001b[1;33m\u001b[0m\u001b[0m\n\u001b[0;32m   1444\u001b[0m             \u001b[1;34m\"Use a.empty, a.bool(), a.item(), a.any() or a.all().\"\u001b[0m\u001b[1;33m\u001b[0m\u001b[1;33m\u001b[0m\u001b[0m\n",
      "\u001b[1;31mValueError\u001b[0m: The truth value of a Series is ambiguous. Use a.empty, a.bool(), a.item(), a.any() or a.all()."
     ]
    }
   ],
   "source": [
    "df = pd.read_excel('Realized Schedule 20210101-20220228.xlsx')\n",
    "df_predict = pd.read_excel('Future Schedule 20220301-20220331.xlsx')\n",
    "df['LoadFactor']=df['LoadFactor']*100\n",
    "sns.boxplot(df,column=['SeatCapacity','LoadFactor'])\n",
    "df=df.iloc[3500:]\n"
   ]
  },
  {
   "cell_type": "code",
   "execution_count": 39,
   "id": "38a036fa-f8ef-47fa-b6be-2a1f1f972fa7",
   "metadata": {},
   "outputs": [
    {
     "data": {
      "text/html": [
       "<div>\n",
       "<style scoped>\n",
       "    .dataframe tbody tr th:only-of-type {\n",
       "        vertical-align: middle;\n",
       "    }\n",
       "\n",
       "    .dataframe tbody tr th {\n",
       "        vertical-align: top;\n",
       "    }\n",
       "\n",
       "    .dataframe thead th {\n",
       "        text-align: right;\n",
       "    }\n",
       "</style>\n",
       "<table border=\"1\" class=\"dataframe\">\n",
       "  <thead>\n",
       "    <tr style=\"text-align: right;\">\n",
       "      <th></th>\n",
       "      <th>ScheduleTime</th>\n",
       "      <th>Airline</th>\n",
       "      <th>FlightNumber</th>\n",
       "      <th>Destination</th>\n",
       "      <th>AircraftType</th>\n",
       "      <th>FlightType</th>\n",
       "      <th>Sector</th>\n",
       "      <th>SeatCapacity</th>\n",
       "      <th>LoadFactor</th>\n",
       "    </tr>\n",
       "  </thead>\n",
       "  <tbody>\n",
       "    <tr>\n",
       "      <th>3500</th>\n",
       "      <td>2021-05-23 08:40:00</td>\n",
       "      <td>DO</td>\n",
       "      <td>972</td>\n",
       "      <td>YYJ</td>\n",
       "      <td>32N</td>\n",
       "      <td>J</td>\n",
       "      <td>CA</td>\n",
       "      <td>180</td>\n",
       "      <td>8.333333</td>\n",
       "    </tr>\n",
       "    <tr>\n",
       "      <th>3501</th>\n",
       "      <td>2021-05-23 10:05:00</td>\n",
       "      <td>CN</td>\n",
       "      <td>512</td>\n",
       "      <td>EST</td>\n",
       "      <td>AT7</td>\n",
       "      <td>J</td>\n",
       "      <td>US</td>\n",
       "      <td>72</td>\n",
       "      <td>37.500000</td>\n",
       "    </tr>\n",
       "    <tr>\n",
       "      <th>3502</th>\n",
       "      <td>2021-05-23 12:00:00</td>\n",
       "      <td>BT</td>\n",
       "      <td>660</td>\n",
       "      <td>NPA</td>\n",
       "      <td>DH4</td>\n",
       "      <td>J</td>\n",
       "      <td>US</td>\n",
       "      <td>76</td>\n",
       "      <td>46.052632</td>\n",
       "    </tr>\n",
       "    <tr>\n",
       "      <th>3503</th>\n",
       "      <td>2021-05-23 12:35:00</td>\n",
       "      <td>DO</td>\n",
       "      <td>986</td>\n",
       "      <td>YXC</td>\n",
       "      <td>32N</td>\n",
       "      <td>J</td>\n",
       "      <td>CA</td>\n",
       "      <td>180</td>\n",
       "      <td>12.222222</td>\n",
       "    </tr>\n",
       "    <tr>\n",
       "      <th>3504</th>\n",
       "      <td>2021-05-23 11:15:00</td>\n",
       "      <td>JZ</td>\n",
       "      <td>822</td>\n",
       "      <td>YHM</td>\n",
       "      <td>AT7</td>\n",
       "      <td>J</td>\n",
       "      <td>CA</td>\n",
       "      <td>74</td>\n",
       "      <td>67.567568</td>\n",
       "    </tr>\n",
       "    <tr>\n",
       "      <th>...</th>\n",
       "      <td>...</td>\n",
       "      <td>...</td>\n",
       "      <td>...</td>\n",
       "      <td>...</td>\n",
       "      <td>...</td>\n",
       "      <td>...</td>\n",
       "      <td>...</td>\n",
       "      <td>...</td>\n",
       "      <td>...</td>\n",
       "    </tr>\n",
       "    <tr>\n",
       "      <th>39444</th>\n",
       "      <td>2022-02-28 18:45:00</td>\n",
       "      <td>VW</td>\n",
       "      <td>986</td>\n",
       "      <td>YYZ</td>\n",
       "      <td>319</td>\n",
       "      <td>J</td>\n",
       "      <td>CA</td>\n",
       "      <td>144</td>\n",
       "      <td>84.722222</td>\n",
       "    </tr>\n",
       "    <tr>\n",
       "      <th>39445</th>\n",
       "      <td>2022-02-28 19:25:00</td>\n",
       "      <td>LJ</td>\n",
       "      <td>667</td>\n",
       "      <td>YDQ</td>\n",
       "      <td>319</td>\n",
       "      <td>J</td>\n",
       "      <td>CA</td>\n",
       "      <td>156</td>\n",
       "      <td>87.179487</td>\n",
       "    </tr>\n",
       "    <tr>\n",
       "      <th>39446</th>\n",
       "      <td>2022-02-28 20:00:00</td>\n",
       "      <td>VW</td>\n",
       "      <td>3406</td>\n",
       "      <td>MYV</td>\n",
       "      <td>E90</td>\n",
       "      <td>J</td>\n",
       "      <td>US</td>\n",
       "      <td>98</td>\n",
       "      <td>85.714286</td>\n",
       "    </tr>\n",
       "    <tr>\n",
       "      <th>39447</th>\n",
       "      <td>2022-02-28 19:30:00</td>\n",
       "      <td>LJ</td>\n",
       "      <td>663</td>\n",
       "      <td>RUT</td>\n",
       "      <td>32N</td>\n",
       "      <td>J</td>\n",
       "      <td>US</td>\n",
       "      <td>186</td>\n",
       "      <td>68.279570</td>\n",
       "    </tr>\n",
       "    <tr>\n",
       "      <th>39448</th>\n",
       "      <td>2022-02-28 21:25:00</td>\n",
       "      <td>LJ</td>\n",
       "      <td>771</td>\n",
       "      <td>YEG</td>\n",
       "      <td>319</td>\n",
       "      <td>J</td>\n",
       "      <td>CA</td>\n",
       "      <td>156</td>\n",
       "      <td>82.051282</td>\n",
       "    </tr>\n",
       "  </tbody>\n",
       "</table>\n",
       "<p>35949 rows × 9 columns</p>\n",
       "</div>"
      ],
      "text/plain": [
       "             ScheduleTime Airline  FlightNumber Destination AircraftType  \\\n",
       "3500  2021-05-23 08:40:00      DO           972         YYJ          32N   \n",
       "3501  2021-05-23 10:05:00      CN           512         EST          AT7   \n",
       "3502  2021-05-23 12:00:00      BT           660         NPA          DH4   \n",
       "3503  2021-05-23 12:35:00      DO           986         YXC          32N   \n",
       "3504  2021-05-23 11:15:00      JZ           822         YHM          AT7   \n",
       "...                   ...     ...           ...         ...          ...   \n",
       "39444 2022-02-28 18:45:00      VW           986         YYZ          319   \n",
       "39445 2022-02-28 19:25:00      LJ           667         YDQ          319   \n",
       "39446 2022-02-28 20:00:00      VW          3406         MYV          E90   \n",
       "39447 2022-02-28 19:30:00      LJ           663         RUT          32N   \n",
       "39448 2022-02-28 21:25:00      LJ           771         YEG          319   \n",
       "\n",
       "      FlightType Sector  SeatCapacity  LoadFactor  \n",
       "3500           J     CA           180    8.333333  \n",
       "3501           J     US            72   37.500000  \n",
       "3502           J     US            76   46.052632  \n",
       "3503           J     CA           180   12.222222  \n",
       "3504           J     CA            74   67.567568  \n",
       "...          ...    ...           ...         ...  \n",
       "39444          J     CA           144   84.722222  \n",
       "39445          J     CA           156   87.179487  \n",
       "39446          J     US            98   85.714286  \n",
       "39447          J     US           186   68.279570  \n",
       "39448          J     CA           156   82.051282  \n",
       "\n",
       "[35949 rows x 9 columns]"
      ]
     },
     "execution_count": 39,
     "metadata": {},
     "output_type": "execute_result"
    }
   ],
   "source": [
    "df"
   ]
  },
  {
   "cell_type": "markdown",
   "id": "a114d7ad-96c8-4824-be97-9f096be74b17",
   "metadata": {},
   "source": [
    "dividing timestamp into year, day and month."
   ]
  },
  {
   "cell_type": "code",
   "execution_count": 3,
   "id": "b0f86420-bd04-493e-bf02-3be85277b684",
   "metadata": {},
   "outputs": [],
   "source": [
    "df['year'] = df.ScheduleTime.apply(lambda x: x.year)\n",
    "df['day'] = df.ScheduleTime.apply(lambda x: x.weekday())\n",
    "df['month'] = df.ScheduleTime.apply(lambda x: x.month)"
   ]
  },
  {
   "cell_type": "markdown",
   "id": "f76d7ca8-aeb0-47d1-a980-bb988b6f90fd",
   "metadata": {},
   "source": [
    "Binning the hours into 4 diffreent categories. "
   ]
  },
  {
   "cell_type": "code",
   "execution_count": 4,
   "id": "484f2d1d-0a2a-48ed-a3b0-294b9ecdcbe7",
   "metadata": {},
   "outputs": [],
   "source": [
    "bins = [0, 6, 12, 18, 24]\n",
    "labels = ['night', 'morning', 'daytime', 'afternoon']\n",
    "df['time'] = pd.cut(df.ScheduleTime.dt.hour, bins,labels=labels)"
   ]
  },
  {
   "cell_type": "code",
   "execution_count": 5,
   "id": "7f4ccc1c-7dd3-4ea5-8a52-bafa654b318e",
   "metadata": {},
   "outputs": [],
   "source": [
    "df['SeatCapacity']=pd.qcut(df['SeatCapacity'],q=5,labels=['small','noice','medium','largebitches','largemegaomega'])"
   ]
  },
  {
   "cell_type": "markdown",
   "id": "3a42a647",
   "metadata": {},
   "source": [
    "Binning the Months into vinter, spring, summer and fall."
   ]
  },
  {
   "cell_type": "code",
   "execution_count": 6,
   "id": "e12a78fc",
   "metadata": {},
   "outputs": [],
   "source": [
    "bins = [\"Winter\", \"Spring\", \"Summer\", \"Fall\"]\n",
    "df['Season'] = df.month%12 //3\n",
    "df['Season'] = df['Season'].apply(lambda x : bins[x])"
   ]
  },
  {
   "cell_type": "markdown",
   "id": "f5b4e4e6-71f9-4408-80de-289014845704",
   "metadata": {},
   "source": [
    "Dummy on sector, flighttype, time and Season"
   ]
  },
  {
   "cell_type": "code",
   "execution_count": 7,
   "id": "e6ad8d96-42b1-4e8d-8d22-a817cd5d574b",
   "metadata": {},
   "outputs": [],
   "source": [
    "df=pd.get_dummies(df,columns=['Sector','FlightType','time', 'Season','day','year','AircraftType','SeatCapacity'],drop_first=True)"
   ]
  },
  {
   "cell_type": "markdown",
   "id": "8acb4b75-8892-4ddb-8f10-b05282af18fb",
   "metadata": {},
   "source": [
    "Cleaning a bit"
   ]
  },
  {
   "cell_type": "code",
   "execution_count": 8,
   "id": "f634eb17-c8d5-47c4-86f8-0c2a6b297eef",
   "metadata": {},
   "outputs": [],
   "source": [
    "df = df.drop(['ScheduleTime', 'month'], axis=1)"
   ]
  },
  {
   "cell_type": "markdown",
   "id": "e7e80efc",
   "metadata": {},
   "source": [
    "Doing frequency encoding of destination and airline"
   ]
  },
  {
   "cell_type": "code",
   "execution_count": 9,
   "id": "bc7ad25f",
   "metadata": {},
   "outputs": [],
   "source": [
    "fe_ = df.groupby(\"Destination\").size()/len(df)\n",
    "df['freq_destination'] = df[\"Destination\"].map(fe_).round(4)\n",
    "\n",
    "fe_ = df.groupby(\"Airline\").size()/len(df)\n",
    "df['freq_airline'] = df[\"Airline\"].map(fe_).round(3)\n",
    "\n",
    "fe_ = df.groupby(\"FlightNumber\").size()/len(df)\n",
    "df['freq_flightnumber'] = df[\"FlightNumber\"].map(fe_).round(3)"
   ]
  },
  {
   "cell_type": "code",
   "execution_count": 10,
   "id": "6533c320",
   "metadata": {},
   "outputs": [],
   "source": [
    "# corr=df.corr()\n",
    "# plt.figure(figsize=(25,25))\n",
    "# sns.heatmap(corr, annot=True)\n",
    "# plt.title(\"Correlations heatmap\")\n",
    "# plt.show()"
   ]
  },
  {
   "cell_type": "code",
   "execution_count": 11,
   "id": "ab04eb35",
   "metadata": {},
   "outputs": [],
   "source": [
    "#df = df[df['year_2022']==1]\n",
    "X = df.loc[:, df.columns != 'LoadFactor']\n",
    "y = df['LoadFactor']\n",
    "N, P = X.shape\n",
    "X['FlightType_O']=0"
   ]
  },
  {
   "cell_type": "code",
   "execution_count": 12,
   "id": "ad28204a",
   "metadata": {},
   "outputs": [],
   "source": [
    "X = X.drop(['Airline','Destination','FlightNumber',], axis=1)"
   ]
  },
  {
   "cell_type": "code",
   "execution_count": 13,
   "id": "b24ea4fc-5454-49ad-9239-b5f6e2c3a6e8",
   "metadata": {},
   "outputs": [],
   "source": [
    "X_train, X_test, y_train, y_test = train_test_split(X, y, test_size=0.33, random_state=1)"
   ]
  },
  {
   "cell_type": "code",
   "execution_count": 14,
   "id": "4deb1653-06bf-45cf-9f45-8899b1fda739",
   "metadata": {},
   "outputs": [],
   "source": [
    "def runModel(model):\n",
    "    model.fit(X_train,y_train)\n",
    "    y_pred=model.predict(X_test)\n",
    "    print(\"& %.3f\" %MSE(y_test,y_pred) + \" & %.3f\" %np.sqrt(MSE(y_test,y_pred))+ \" & %.3f\" %MAE(y_test,y_pred)+ \" & %.3f\" %r2_score(y_test,y_pred)+ \" & %.3f\" %accuracy(y_test,y_pred))"
   ]
  },
  {
   "cell_type": "code",
   "execution_count": 24,
   "id": "47c5e613-74f7-49b1-b2ed-9c1a38206e71",
   "metadata": {},
   "outputs": [
    {
     "name": "stdout",
     "output_type": "stream",
     "text": [
      "& 0.046 & 0.215 & 0.178 & 0.367 & 0.364\n"
     ]
    },
    {
     "data": {
      "text/plain": [
       "XGBRFRegressor(base_score=0.5, booster='gbtree', colsample_bylevel=1,\n",
       "               colsample_bytree=1, enable_categorical=False, gamma=0, gpu_id=-1,\n",
       "               importance_type=None, interaction_constraints='',\n",
       "               max_delta_step=0, max_depth=6, min_child_weight=1, missing=nan,\n",
       "               monotone_constraints='()', n_estimators=100, n_jobs=12,\n",
       "               num_parallel_tree=100, objective='reg:squarederror',\n",
       "               predictor='auto', random_state=0, reg_alpha=0,\n",
       "               scale_pos_weight=1, tree_method='exact', validate_parameters=1,\n",
       "               verbosity=None)"
      ]
     },
     "execution_count": 24,
     "metadata": {},
     "output_type": "execute_result"
    }
   ],
   "source": [
    "runModel(XGBRFRegressor())\n",
    "model=XGBRFRegressor()\n",
    "model.fit(X_train,y_train)"
   ]
  },
  {
   "cell_type": "code",
   "execution_count": 29,
   "id": "d92fc04b-74f0-40a8-8601-096c5ce67d7b",
   "metadata": {},
   "outputs": [
    {
     "data": {
      "image/png": "[encoded data removed]",
      "text/plain": [
       "<Figure size 576x252 with 2 Axes>"
      ]
     },
     "metadata": {},
     "output_type": "display_data"
    }
   ],
   "source": [
    "explainer = shap.TreeExplainer(model)\n",
    "shap_values = explainer.shap_values(X_test)\n",
    "shap.summary_plot(shap_values, X_test,max_display=5)"
   ]
  },
  {
   "cell_type": "code",
   "execution_count": 34,
   "id": "d7abcf69-2698-4d30-be9c-014979093d13",
   "metadata": {},
   "outputs": [
    {
     "data": {
      "image/png": "[encoded data removed]",
      "text/plain": [
       "<Figure size 1440x216 with 1 Axes>"
      ]
     },
     "metadata": {},
     "output_type": "display_data"
    }
   ],
   "source": [
    "shap.force_plot(explainer.expected_value, shap_values[240,:], \n",
    "                X_test.iloc[240,:],\n",
    "                matplotlib=True\n",
    "               )"
   ]
  },
  {
   "cell_type": "code",
   "execution_count": 118,
   "id": "024a5da6-4b35-45b7-a91d-84c0a6b6c1f7",
   "metadata": {},
   "outputs": [
    {
     "name": "stdout",
     "output_type": "stream",
     "text": [
      "Fitting 5 folds for each of 20 candidates, totalling 100 fits\n",
      "{'max_depth': 21,\n",
      " 'min_samples_leaf': 4,\n",
      " 'min_samples_split': 2,\n",
      " 'n_estimators': 169}\n"
     ]
    }
   ],
   "source": [
    "model =  RandomForestRegressor()\n",
    "param_grid = {\n",
    "    'max_depth': list(range(5,30)),\n",
    "    'n_estimators': [x for x in range(10,200)],\n",
    "    'min_samples_split': [2,3,4,5,6],\n",
    "    'min_samples_leaf': [4,5,6,7,8]\n",
    "}\n",
    "\n",
    "boost_random = RandomizedSearchCV(estimator = model, param_distributions = param_grid, n_iter=20, verbose = 2, n_jobs=6, return_train_score=True)\n",
    "    \n",
    "boost_random.fit(X, y)\n",
    "pprint(boost_random.best_params_)"
   ]
  },
  {
   "cell_type": "code",
   "execution_count": 30,
   "id": "49196d3b-5b33-4dcc-bcc4-b512f038acda",
   "metadata": {},
   "outputs": [
    {
     "name": "stdout",
     "output_type": "stream",
     "text": [
      "& 0.031 & 0.176 & 0.137 & 0.580 & 0.556\n"
     ]
    }
   ],
   "source": [
    "runModel(RandomForestRegressor(max_depth= 21,\n",
    " min_samples_leaf= 4,\n",
    " min_samples_split=2,\n",
    " n_estimators= 169)) "
   ]
  },
  {
   "cell_type": "markdown",
   "id": "0245e9be-c32a-4d8a-90fd-08f1de1d5daf",
   "metadata": {},
   "source": [
    "RandomForestRegressor with adaboost is the best option and therefor crossvalidation will be used on that."
   ]
  },
  {
   "cell_type": "code",
   "execution_count": 44,
   "id": "6ca9823e",
   "metadata": {},
   "outputs": [
    {
     "name": "stdout",
     "output_type": "stream",
     "text": [
      "Fitting 5 folds for each of 405 candidates, totalling 2025 fits\n"
     ]
    },
    {
     "data": {
      "text/plain": [
       "GridSearchCV(estimator=RandomForestRegressor(warm_start=True), n_jobs=6,\n",
       "             param_grid={'max_depth': [15, 17, 19, 21, 23],\n",
       "                         'min_samples_leaf': [1, 2, 3],\n",
       "                         'min_samples_split': [2, 3, 4],\n",
       "                         'n_estimators': [73, 74, 75, 76, 77, 78, 79, 80, 81]},\n",
       "             return_train_score=True, scoring='r2', verbose=2)"
      ]
     },
     "execution_count": 44,
     "metadata": {},
     "output_type": "execute_result"
    }
   ],
   "source": [
    "model =  RandomForestRegressor(warm_start=True)\n",
    "param_grid = {\n",
    "    'max_depth': [15,17,19,21,23],\n",
    "    'n_estimators': [x for x in range(73,82)],\n",
    "    'min_samples_split': [2,3,4],\n",
    "    'min_samples_leaf': [1,2,3]\n",
    "}\n",
    "\n",
    "boost_grid = GridSearchCV(estimator = model, param_grid = param_grid, verbose = 2, n_jobs=6 ,return_train_score=True, scoring='r2')\n",
    "    \n",
    "boost_grid.fit(X, y)"
   ]
  },
  {
   "cell_type": "code",
   "execution_count": 43,
   "id": "1e056c44-8471-456b-a891-1b8a2ffe48ea",
   "metadata": {},
   "outputs": [],
   "source": [
    "df_predict = pd.read_excel('Future Schedule 20220301-20220331.xlsx')\n",
    "df_predict['year'] = df_predict.ScheduleTime.apply(lambda x: x.year)\n",
    "df_predict['day'] = df_predict.ScheduleTime.apply(lambda x: x.weekday())\n",
    "df_predict['month'] = df_predict.ScheduleTime.apply(lambda x: x.month)\n",
    "bins = [0, 6, 12, 18, 24]\n",
    "labels = ['night', 'morning', 'daytime', 'afternoon']\n",
    "df_predict['time'] = pd.cut(df_predict.ScheduleTime.dt.hour, bins,labels=labels)\n",
    "bins = [\"Winter\", \"Spring\", \"Summer\", \"Fall\"]\n",
    "df_predict['Season'] = df_predict.month%12 //3\n",
    "df_predict['Season'] = df_predict['Season'].apply(lambda x : bins[x])\n",
    "df_predict=pd.get_dummies(df_predict,columns=['Sector','FlightType','time', 'Season','day','year'],drop_first=True)\n",
    "df_predict = df_predict.drop(['ScheduleTime', 'month'], axis=1)\n",
    "fe_ = df_predict.groupby(\"Destination\").size()/len(df_predict)\n",
    "df_predict['freq_destination'] = df_predict[\"Destination\"].map(fe_).round(4)\n",
    "\n",
    "fe_ = df_predict.groupby(\"Airline\").size()/len(df)\n",
    "df_predict['freq_airline'] = df_predict[\"Airline\"].map(fe_).round(3)\n",
    "\n",
    "X = df_predict.loc[:, df_predict.columns != 'LoadFactor']\n",
    "X = X.drop(['Airline', 'FlightNumber', 'Destination', 'AircraftType'], axis=1)\n",
    "X['Sector_MX']=0\n",
    "X['Sector_NL']=0\n",
    "X['Season_Spring']=0\n",
    "X[ 'Season_Summer']=0\n",
    "X['Season_Winter']=0\n",
    "X['year_2022'] = 0 "
   ]
  },
  {
   "cell_type": "code",
   "execution_count": 20,
   "id": "b02c95dd-397b-4c5d-b571-38f6755a4a7b",
   "metadata": {},
   "outputs": [],
   "source": [
    "def accuracy(y_test, yhat):\n",
    "    acc = []\n",
    "    for i in range(len(y_test)):\n",
    "        if y_test.values[i]!=0:\n",
    "            acc.append(1-abs((y_test.values[i]-yhat[i])/y_test.values[i]))\n",
    "    return np.mean(acc)"
   ]
  },
  {
   "cell_type": "code",
   "execution_count": 17,
   "id": "194996b2-bace-41fb-819a-a7fa3d55f90d",
   "metadata": {},
   "outputs": [],
   "source": [
    "def MSE(y_true, y_predict):\n",
    "    squared = (y_true-y_predict)**2\n",
    "    return np.sum(squared) / len(y_true)\n",
    "\n",
    "def MAE(y_true, y_predict):\n",
    "    abs_val = abs(y_true-y_predict)\n",
    "    return np.sum(abs_val) / len(y_true)"
   ]
  },
  {
   "cell_type": "code",
   "execution_count": 18,
   "id": "60478ca7-005e-4533-8e8f-c22f52a5ef7d",
   "metadata": {},
   "outputs": [],
   "source": [
    "def plot_search_results_grid(grid):\n",
    "    results = grid.cv_results_\n",
    "    means_test = results['split1_test_score']\n",
    "    stds_test = results['std_test_score']\n",
    "    means_train = results['split1_train_score']\n",
    "    stds_train = results['std_train_score']\n",
    "\n",
    "    masks=[]\n",
    "    masks_names= list(grid.best_params_.keys())\n",
    "    for p_k, p_v in grid.best_params_.items():\n",
    "        masks.append(list(results['param_'+p_k].data==p_v))\n",
    "\n",
    "    params=grid.param_grid\n",
    "\n",
    "    fig, ax = plt.subplots(1,len(params),sharex='none',figsize=(20,5))\n",
    "    fig.suptitle('Score per parameter')\n",
    "    fig.text(0.09, 0.5, 'Best split SCORE', va='center', rotation='vertical')\n",
    "    pram_preformace_in_best = {}\n",
    "    for i, p in enumerate(masks_names):\n",
    "        m = np.stack(masks[:i] + masks[i+1:])\n",
    "        pram_preformace_in_best\n",
    "        best_parms_mask = m.all(axis=0)\n",
    "        best_index = np.where(best_parms_mask)[0]\n",
    "        x = np.array(params[p])\n",
    "        y_1 = np.array(means_test[best_index])\n",
    "        y_2 = np.array(means_train[best_index])\n",
    "        ax[i].plot(x, y_1, linestyle='--', marker='o', label='test')\n",
    "        ax[i].plot(x, y_2, linestyle='-', marker='*',label='train' )\n",
    "        ax[i].set_xlabel(p.upper())\n",
    "    plt.show()"
   ]
  }
 ],
 "metadata": {
  "kernelspec": {
   "display_name": "Python 3",
   "language": "python",
   "name": "python3"
  },
  "language_info": {
   "codemirror_mode": {
    "name": "ipython",
    "version": 3
   },
   "file_extension": ".py",
   "mimetype": "text/x-python",
   "name": "python",
   "nbconvert_exporter": "python",
   "pygments_lexer": "ipython3",
   "version": "3.8.8"
  }
 },
 "nbformat": 4,
 "nbformat_minor": 5
}
